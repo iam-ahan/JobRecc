{
  "nbformat": 4,
  "nbformat_minor": 0,
  "metadata": {
    "colab": {
      "provenance": []
    },
    "kernelspec": {
      "name": "python3",
      "display_name": "Python 3"
    },
    "language_info": {
      "name": "python"
    }
  },
  "cells": [
    {
      "cell_type": "markdown",
      "source": [
        "Importing Libraries"
      ],
      "metadata": {
        "id": "jvAKdfeAMScW"
      }
    },
    {
      "cell_type": "code",
      "execution_count": 3,
      "metadata": {
        "id": "x3GVpdtPF7nX"
      },
      "outputs": [],
      "source": [
        "import pandas as pd\n",
        "import numpy as np\n",
        "from sklearn.feature_extraction.text import TfidfVectorizer\n",
        "from sklearn.metrics.pairwise import linear_kernel"
      ]
    },
    {
      "cell_type": "markdown",
      "source": [
        "Fetching Data"
      ],
      "metadata": {
        "id": "itQHSXHbMXnx"
      }
    },
    {
      "cell_type": "code",
      "source": [
        "df = pd.read_excel('/content/jobs1.xlsx')\n",
        "df.head()"
      ],
      "metadata": {
        "colab": {
          "base_uri": "https://localhost:8080/",
          "height": 518
        },
        "id": "PMBeN2fMGiQA",
        "outputId": "66524894-6a8a-4161-a141-ca3e51277137"
      },
      "execution_count": 4,
      "outputs": [
        {
          "output_type": "execute_result",
          "data": {
            "text/plain": [
              "                            query                      company  \\\n",
              "0  Business development executive         Aditya Birla Capital   \n",
              "1  Business development executive  Pidilite Industries Limited   \n",
              "2            Influencer marketing           Maharishi Ayurveda   \n",
              "3            Influencer marketing                     Avian WE   \n",
              "4  Business development executive          ManpowerGroup India   \n",
              "\n",
              "                                               title  \\\n",
              "0  Business Development Manager (BDM) - Aditya Bi...   \n",
              "1                Area Business Development Executive   \n",
              "2                               Social Media Manager   \n",
              "3                             Social Media Executive   \n",
              "4                       Business Development Manager   \n",
              "\n",
              "                                         description location  \\\n",
              "0  This job is provided by apna.co Agency Channel...    India   \n",
              "1  Key Requirement for the Position\\n\\nJob Descri...    India   \n",
              "2  Combines marketing and social media management...    India   \n",
              "3  Portfolio & Deliverables :\\n\\n• Support client...    India   \n",
              "4  Summary of Role: The Business Development Lead...    India   \n",
              "\n",
              "                         place   remote       type                 createdAt  \\\n",
              "0     Pune, Maharashtra, India  on site  full time  2024-03-05T14:53:14.243Z   \n",
              "1  Hyderabad, Telangana, India  on site  full time  2024-03-05T14:53:16.892Z   \n",
              "2  Noida, Uttar Pradesh, India  on site  full time  2024-03-05T14:54:15.132Z   \n",
              "3      New Delhi, Delhi, India  on site  full time  2024-03-05T14:54:17.718Z   \n",
              "4                        India   remote  full time  2024-03-05T14:54:35.984Z   \n",
              "\n",
              "        date insights       jobId  \\\n",
              "0 2024-03-04       []  3846385519   \n",
              "1 2024-03-05       []  3829070933   \n",
              "2 2024-03-05       []  3846245582   \n",
              "3 2024-03-05       []  3842586135   \n",
              "4 2024-03-05       []  3846534049   \n",
              "\n",
              "                                                link  \n",
              "0  https://in.linkedin.com/jobs/view/business-dev...  \n",
              "1  https://in.linkedin.com/jobs/view/area-busines...  \n",
              "2  https://in.linkedin.com/jobs/view/social-media...  \n",
              "3  https://in.linkedin.com/jobs/view/social-media...  \n",
              "4  https://in.linkedin.com/jobs/view/business-dev...  "
            ],
            "text/html": [
              "\n",
              "  <div id=\"df-c9515e8e-6c57-4b79-bab4-bcbaab6df101\" class=\"colab-df-container\">\n",
              "    <div>\n",
              "<style scoped>\n",
              "    .dataframe tbody tr th:only-of-type {\n",
              "        vertical-align: middle;\n",
              "    }\n",
              "\n",
              "    .dataframe tbody tr th {\n",
              "        vertical-align: top;\n",
              "    }\n",
              "\n",
              "    .dataframe thead th {\n",
              "        text-align: right;\n",
              "    }\n",
              "</style>\n",
              "<table border=\"1\" class=\"dataframe\">\n",
              "  <thead>\n",
              "    <tr style=\"text-align: right;\">\n",
              "      <th></th>\n",
              "      <th>query</th>\n",
              "      <th>company</th>\n",
              "      <th>title</th>\n",
              "      <th>description</th>\n",
              "      <th>location</th>\n",
              "      <th>place</th>\n",
              "      <th>remote</th>\n",
              "      <th>type</th>\n",
              "      <th>createdAt</th>\n",
              "      <th>date</th>\n",
              "      <th>insights</th>\n",
              "      <th>jobId</th>\n",
              "      <th>link</th>\n",
              "    </tr>\n",
              "  </thead>\n",
              "  <tbody>\n",
              "    <tr>\n",
              "      <th>0</th>\n",
              "      <td>Business development executive</td>\n",
              "      <td>Aditya Birla Capital</td>\n",
              "      <td>Business Development Manager (BDM) - Aditya Bi...</td>\n",
              "      <td>This job is provided by apna.co Agency Channel...</td>\n",
              "      <td>India</td>\n",
              "      <td>Pune, Maharashtra, India</td>\n",
              "      <td>on site</td>\n",
              "      <td>full time</td>\n",
              "      <td>2024-03-05T14:53:14.243Z</td>\n",
              "      <td>2024-03-04</td>\n",
              "      <td>[]</td>\n",
              "      <td>3846385519</td>\n",
              "      <td>https://in.linkedin.com/jobs/view/business-dev...</td>\n",
              "    </tr>\n",
              "    <tr>\n",
              "      <th>1</th>\n",
              "      <td>Business development executive</td>\n",
              "      <td>Pidilite Industries Limited</td>\n",
              "      <td>Area Business Development Executive</td>\n",
              "      <td>Key Requirement for the Position\\n\\nJob Descri...</td>\n",
              "      <td>India</td>\n",
              "      <td>Hyderabad, Telangana, India</td>\n",
              "      <td>on site</td>\n",
              "      <td>full time</td>\n",
              "      <td>2024-03-05T14:53:16.892Z</td>\n",
              "      <td>2024-03-05</td>\n",
              "      <td>[]</td>\n",
              "      <td>3829070933</td>\n",
              "      <td>https://in.linkedin.com/jobs/view/area-busines...</td>\n",
              "    </tr>\n",
              "    <tr>\n",
              "      <th>2</th>\n",
              "      <td>Influencer marketing</td>\n",
              "      <td>Maharishi Ayurveda</td>\n",
              "      <td>Social Media Manager</td>\n",
              "      <td>Combines marketing and social media management...</td>\n",
              "      <td>India</td>\n",
              "      <td>Noida, Uttar Pradesh, India</td>\n",
              "      <td>on site</td>\n",
              "      <td>full time</td>\n",
              "      <td>2024-03-05T14:54:15.132Z</td>\n",
              "      <td>2024-03-05</td>\n",
              "      <td>[]</td>\n",
              "      <td>3846245582</td>\n",
              "      <td>https://in.linkedin.com/jobs/view/social-media...</td>\n",
              "    </tr>\n",
              "    <tr>\n",
              "      <th>3</th>\n",
              "      <td>Influencer marketing</td>\n",
              "      <td>Avian WE</td>\n",
              "      <td>Social Media Executive</td>\n",
              "      <td>Portfolio &amp; Deliverables :\\n\\n• Support client...</td>\n",
              "      <td>India</td>\n",
              "      <td>New Delhi, Delhi, India</td>\n",
              "      <td>on site</td>\n",
              "      <td>full time</td>\n",
              "      <td>2024-03-05T14:54:17.718Z</td>\n",
              "      <td>2024-03-05</td>\n",
              "      <td>[]</td>\n",
              "      <td>3842586135</td>\n",
              "      <td>https://in.linkedin.com/jobs/view/social-media...</td>\n",
              "    </tr>\n",
              "    <tr>\n",
              "      <th>4</th>\n",
              "      <td>Business development executive</td>\n",
              "      <td>ManpowerGroup India</td>\n",
              "      <td>Business Development Manager</td>\n",
              "      <td>Summary of Role: The Business Development Lead...</td>\n",
              "      <td>India</td>\n",
              "      <td>India</td>\n",
              "      <td>remote</td>\n",
              "      <td>full time</td>\n",
              "      <td>2024-03-05T14:54:35.984Z</td>\n",
              "      <td>2024-03-05</td>\n",
              "      <td>[]</td>\n",
              "      <td>3846534049</td>\n",
              "      <td>https://in.linkedin.com/jobs/view/business-dev...</td>\n",
              "    </tr>\n",
              "  </tbody>\n",
              "</table>\n",
              "</div>\n",
              "    <div class=\"colab-df-buttons\">\n",
              "\n",
              "  <div class=\"colab-df-container\">\n",
              "    <button class=\"colab-df-convert\" onclick=\"convertToInteractive('df-c9515e8e-6c57-4b79-bab4-bcbaab6df101')\"\n",
              "            title=\"Convert this dataframe to an interactive table.\"\n",
              "            style=\"display:none;\">\n",
              "\n",
              "  <svg xmlns=\"http://www.w3.org/2000/svg\" height=\"24px\" viewBox=\"0 -960 960 960\">\n",
              "    <path d=\"M120-120v-720h720v720H120Zm60-500h600v-160H180v160Zm220 220h160v-160H400v160Zm0 220h160v-160H400v160ZM180-400h160v-160H180v160Zm440 0h160v-160H620v160ZM180-180h160v-160H180v160Zm440 0h160v-160H620v160Z\"/>\n",
              "  </svg>\n",
              "    </button>\n",
              "\n",
              "  <style>\n",
              "    .colab-df-container {\n",
              "      display:flex;\n",
              "      gap: 12px;\n",
              "    }\n",
              "\n",
              "    .colab-df-convert {\n",
              "      background-color: #E8F0FE;\n",
              "      border: none;\n",
              "      border-radius: 50%;\n",
              "      cursor: pointer;\n",
              "      display: none;\n",
              "      fill: #1967D2;\n",
              "      height: 32px;\n",
              "      padding: 0 0 0 0;\n",
              "      width: 32px;\n",
              "    }\n",
              "\n",
              "    .colab-df-convert:hover {\n",
              "      background-color: #E2EBFA;\n",
              "      box-shadow: 0px 1px 2px rgba(60, 64, 67, 0.3), 0px 1px 3px 1px rgba(60, 64, 67, 0.15);\n",
              "      fill: #174EA6;\n",
              "    }\n",
              "\n",
              "    .colab-df-buttons div {\n",
              "      margin-bottom: 4px;\n",
              "    }\n",
              "\n",
              "    [theme=dark] .colab-df-convert {\n",
              "      background-color: #3B4455;\n",
              "      fill: #D2E3FC;\n",
              "    }\n",
              "\n",
              "    [theme=dark] .colab-df-convert:hover {\n",
              "      background-color: #434B5C;\n",
              "      box-shadow: 0px 1px 3px 1px rgba(0, 0, 0, 0.15);\n",
              "      filter: drop-shadow(0px 1px 2px rgba(0, 0, 0, 0.3));\n",
              "      fill: #FFFFFF;\n",
              "    }\n",
              "  </style>\n",
              "\n",
              "    <script>\n",
              "      const buttonEl =\n",
              "        document.querySelector('#df-c9515e8e-6c57-4b79-bab4-bcbaab6df101 button.colab-df-convert');\n",
              "      buttonEl.style.display =\n",
              "        google.colab.kernel.accessAllowed ? 'block' : 'none';\n",
              "\n",
              "      async function convertToInteractive(key) {\n",
              "        const element = document.querySelector('#df-c9515e8e-6c57-4b79-bab4-bcbaab6df101');\n",
              "        const dataTable =\n",
              "          await google.colab.kernel.invokeFunction('convertToInteractive',\n",
              "                                                    [key], {});\n",
              "        if (!dataTable) return;\n",
              "\n",
              "        const docLinkHtml = 'Like what you see? Visit the ' +\n",
              "          '<a target=\"_blank\" href=https://colab.research.google.com/notebooks/data_table.ipynb>data table notebook</a>'\n",
              "          + ' to learn more about interactive tables.';\n",
              "        element.innerHTML = '';\n",
              "        dataTable['output_type'] = 'display_data';\n",
              "        await google.colab.output.renderOutput(dataTable, element);\n",
              "        const docLink = document.createElement('div');\n",
              "        docLink.innerHTML = docLinkHtml;\n",
              "        element.appendChild(docLink);\n",
              "      }\n",
              "    </script>\n",
              "  </div>\n",
              "\n",
              "\n",
              "<div id=\"df-f9f97a7b-79ce-4e64-b7bf-fc51a7fc475b\">\n",
              "  <button class=\"colab-df-quickchart\" onclick=\"quickchart('df-f9f97a7b-79ce-4e64-b7bf-fc51a7fc475b')\"\n",
              "            title=\"Suggest charts\"\n",
              "            style=\"display:none;\">\n",
              "\n",
              "<svg xmlns=\"http://www.w3.org/2000/svg\" height=\"24px\"viewBox=\"0 0 24 24\"\n",
              "     width=\"24px\">\n",
              "    <g>\n",
              "        <path d=\"M19 3H5c-1.1 0-2 .9-2 2v14c0 1.1.9 2 2 2h14c1.1 0 2-.9 2-2V5c0-1.1-.9-2-2-2zM9 17H7v-7h2v7zm4 0h-2V7h2v10zm4 0h-2v-4h2v4z\"/>\n",
              "    </g>\n",
              "</svg>\n",
              "  </button>\n",
              "\n",
              "<style>\n",
              "  .colab-df-quickchart {\n",
              "      --bg-color: #E8F0FE;\n",
              "      --fill-color: #1967D2;\n",
              "      --hover-bg-color: #E2EBFA;\n",
              "      --hover-fill-color: #174EA6;\n",
              "      --disabled-fill-color: #AAA;\n",
              "      --disabled-bg-color: #DDD;\n",
              "  }\n",
              "\n",
              "  [theme=dark] .colab-df-quickchart {\n",
              "      --bg-color: #3B4455;\n",
              "      --fill-color: #D2E3FC;\n",
              "      --hover-bg-color: #434B5C;\n",
              "      --hover-fill-color: #FFFFFF;\n",
              "      --disabled-bg-color: #3B4455;\n",
              "      --disabled-fill-color: #666;\n",
              "  }\n",
              "\n",
              "  .colab-df-quickchart {\n",
              "    background-color: var(--bg-color);\n",
              "    border: none;\n",
              "    border-radius: 50%;\n",
              "    cursor: pointer;\n",
              "    display: none;\n",
              "    fill: var(--fill-color);\n",
              "    height: 32px;\n",
              "    padding: 0;\n",
              "    width: 32px;\n",
              "  }\n",
              "\n",
              "  .colab-df-quickchart:hover {\n",
              "    background-color: var(--hover-bg-color);\n",
              "    box-shadow: 0 1px 2px rgba(60, 64, 67, 0.3), 0 1px 3px 1px rgba(60, 64, 67, 0.15);\n",
              "    fill: var(--button-hover-fill-color);\n",
              "  }\n",
              "\n",
              "  .colab-df-quickchart-complete:disabled,\n",
              "  .colab-df-quickchart-complete:disabled:hover {\n",
              "    background-color: var(--disabled-bg-color);\n",
              "    fill: var(--disabled-fill-color);\n",
              "    box-shadow: none;\n",
              "  }\n",
              "\n",
              "  .colab-df-spinner {\n",
              "    border: 2px solid var(--fill-color);\n",
              "    border-color: transparent;\n",
              "    border-bottom-color: var(--fill-color);\n",
              "    animation:\n",
              "      spin 1s steps(1) infinite;\n",
              "  }\n",
              "\n",
              "  @keyframes spin {\n",
              "    0% {\n",
              "      border-color: transparent;\n",
              "      border-bottom-color: var(--fill-color);\n",
              "      border-left-color: var(--fill-color);\n",
              "    }\n",
              "    20% {\n",
              "      border-color: transparent;\n",
              "      border-left-color: var(--fill-color);\n",
              "      border-top-color: var(--fill-color);\n",
              "    }\n",
              "    30% {\n",
              "      border-color: transparent;\n",
              "      border-left-color: var(--fill-color);\n",
              "      border-top-color: var(--fill-color);\n",
              "      border-right-color: var(--fill-color);\n",
              "    }\n",
              "    40% {\n",
              "      border-color: transparent;\n",
              "      border-right-color: var(--fill-color);\n",
              "      border-top-color: var(--fill-color);\n",
              "    }\n",
              "    60% {\n",
              "      border-color: transparent;\n",
              "      border-right-color: var(--fill-color);\n",
              "    }\n",
              "    80% {\n",
              "      border-color: transparent;\n",
              "      border-right-color: var(--fill-color);\n",
              "      border-bottom-color: var(--fill-color);\n",
              "    }\n",
              "    90% {\n",
              "      border-color: transparent;\n",
              "      border-bottom-color: var(--fill-color);\n",
              "    }\n",
              "  }\n",
              "</style>\n",
              "\n",
              "  <script>\n",
              "    async function quickchart(key) {\n",
              "      const quickchartButtonEl =\n",
              "        document.querySelector('#' + key + ' button');\n",
              "      quickchartButtonEl.disabled = true;  // To prevent multiple clicks.\n",
              "      quickchartButtonEl.classList.add('colab-df-spinner');\n",
              "      try {\n",
              "        const charts = await google.colab.kernel.invokeFunction(\n",
              "            'suggestCharts', [key], {});\n",
              "      } catch (error) {\n",
              "        console.error('Error during call to suggestCharts:', error);\n",
              "      }\n",
              "      quickchartButtonEl.classList.remove('colab-df-spinner');\n",
              "      quickchartButtonEl.classList.add('colab-df-quickchart-complete');\n",
              "    }\n",
              "    (() => {\n",
              "      let quickchartButtonEl =\n",
              "        document.querySelector('#df-f9f97a7b-79ce-4e64-b7bf-fc51a7fc475b button');\n",
              "      quickchartButtonEl.style.display =\n",
              "        google.colab.kernel.accessAllowed ? 'block' : 'none';\n",
              "    })();\n",
              "  </script>\n",
              "</div>\n",
              "\n",
              "    </div>\n",
              "  </div>\n"
            ],
            "application/vnd.google.colaboratory.intrinsic+json": {
              "type": "dataframe",
              "variable_name": "df",
              "summary": "{\n  \"name\": \"df\",\n  \"rows\": 8396,\n  \"fields\": [\n    {\n      \"column\": \"query\",\n      \"properties\": {\n        \"dtype\": \"category\",\n        \"num_unique_values\": 6,\n        \"samples\": [\n          \"Business development executive\",\n          \"Influencer marketing\",\n          \"Chief Technology Officer\"\n        ],\n        \"semantic_type\": \"\",\n        \"description\": \"\"\n      }\n    },\n    {\n      \"column\": \"company\",\n      \"properties\": {\n        \"dtype\": \"category\",\n        \"num_unique_values\": 4108,\n        \"samples\": [\n          \"Infojini Inc\",\n          \"AiSensy\",\n          \"Askservice.co.in\"\n        ],\n        \"semantic_type\": \"\",\n        \"description\": \"\"\n      }\n    },\n    {\n      \"column\": \"title\",\n      \"properties\": {\n        \"dtype\": \"category\",\n        \"num_unique_values\": 3956,\n        \"samples\": [\n          \"Vice President Marketing, Stealth Educational Startup (Remote) - $200,000/year USD\",\n          \"Associate Media Director (Branding)\",\n          \"Back End Developer\"\n        ],\n        \"semantic_type\": \"\",\n        \"description\": \"\"\n      }\n    },\n    {\n      \"column\": \"description\",\n      \"properties\": {\n        \"dtype\": \"string\",\n        \"num_unique_values\": 6860,\n        \"samples\": [\n          \"Achieve Sales in Enterprise Corporate Accounts.\\nKnowledge of at least two of the following emerging technologies like - Servers, Hyper converged Infrastructure, Storage, Virtualization, Networking and Cyber Security.\\nProducts from Netapp, Dell, Lenovo, AWS, Vmware, Red Hat, Cisco, F5, Sentinel One, Palo Alto, etc are expected to be sold to enterprise customers in the form of enterprise solutions.\\nAbility to work with multiple teams and ability to understand latest Data Centre products and technologies.\\nCandidates with positive attitude and having a sharp technical-sales acumen can be considered for entry level positions. Sales and Product training will be provided along with Certifications. Reasonable targets under work strict Managerial supervision will be given for first 6 months.\\nProbationary period is of 6 months after which, depending upon performance, the Position will be confirmed with the upgradation in designation. If targets are achieved, review of Package will also be done after 6 months.\\nPerson has to be necessarily based out of Delhi and ready to travel within NCR region. Self driven vehicle will be an advantage.\\n\\n\\nEducation\\n\\nBtech, MBA, BCA, MCA, BBA\\n\\nJob Types: Full-time, Fresher\\n\\nSalary: - 25,000.00 - 75,000.00 per month depending upon work experience\\n\\nBenefits\\n\\n\\nCell phone reimbursement\\nCommuter assistance\\nFlexible schedule\\nInternet reimbursement\\n\\n\\n(ref:updazz.com)\\nShow more \",\n          \"Social Media Marketing Internship\\n\\n\\n\\n\\nInternship Mode:\\u00a0\\n\\n\\u25aa\\ufe0eSocial Media Manager: Onsite\\n\\n\\u25aa\\ufe0e Social media Promoter: Remote\\u00a0\\n\\nStipend Provided : No\\n\\n\\n\\n\\nSUMMARY\\n\\nPehchaan The Street School is seeking a creative and driven individual to join our team as a Social Media Intern. As a Social Media Intern, you will play a crucial role in expanding our organisation's online presence and engaging with our community through various social media platforms. This internship offers an excellent opportunity to gain hands-on experience in social media management while making a positive impact through your digital contribution.\\n\\n\\n\\n\\nSKILLS REQUIRED :-\\n\\nStrong written and verbal communication skills.\\nKnowledge of social media platforms, trends, and best practices.\\nExperience in creating content for social media,including writing engaging captions and selecting compelling visuals.\\n\\n\\n\\n\\nKEY RESPONSIBILITIES :-\\n\\nAssist in managing and updating our organisation's social media platforms, including Facebook, Twitter, Instagram, and LinkedIn.\\nCreate engaging and compelling content, such as posts, images, and videos, to promote our organisation's mission and programs.\\nMonitor social media channels for mentions,comments, and messages, and respond in a timely and professional manner.\\nCollaborate with team members to develop social media campaigns and strategies to raise awareness, drive engagement, and increase followers.\\nConduct research to identify trends and best practices in social media marketing for nonprofits.\\n\\n\\n\\n\\nPERKS OF INTERNSHIP :-\\n\\nInternship Certificate\\nLetter of Recommendation on the basis of performance\\nLinkedIn Recommendation\\n\\n\\n\\n\\nWHAT YOU WILL LEARN ?\\n\\nDigital Marketing\\nCreativity\\nContentCreation\\nSocial Media Management\\u00a0\\n\\n\\n\\n\\nShow more \",\n          \"About Company:\\n\\n\\n\\n\\nTutela is one of India\\u2019s leading brands in SAT, ACT, AP, IB &amp; IGCSE coaching having catered\\n\\nto more than 2,000 students over the last 5 years. It coaches students from all across the\\n\\nglobe from varied curriculums and interests who aspire to pursue their undergrad education\\n\\nin the top universities across the world.\\u00a0\\n\\nThe position holder is expected to identify, develop, and maintain good business relationships\\n\\nwith new and existing accounts, to create and strengthen the competitive position of the company in the market.\\n\\n\\n\\n\\nKey Deliverables:\\n\\n\\n\\n\\nWe are seeking an experienced and dynamic Zonal Sales/Business Development Head for\\n\\nour Bangalore zone to lead our sales team and drive business growth. The ideal candidate\\n\\nwill have a strong background in sales strategy, team management, and business\\n\\ndevelopment, with a proven track record of achieving sales targets. This role involves a fixed\\n\\nsalary with a variable component tied to the sales performance.\\n\\n\\n\\n\\nKey Responsibilities:\\n\\n\\n\\n\\n\\n\\n\\n\\uf0b7 Develop and implement effective sales strategies to achieve and surpass sales\\n\\ntargets within the Bangalore zone.\\n\\n\\uf0b7 Lead, motivate, and manage the sales team, setting performance standards,\\n\\nmonitoring progress, and providing coaching and guidance.\\u00a0\\n\\n\\uf0b7 Identify new business opportunities, including new markets, growth areas, trends,\\n\\ncustomers, products, and services.\\n\\n\\uf0b7 Foster strong relationships with key clients and industry stakeholders within the\\n\\nBangalore zone to secure and expand business opportunities.\\u00a0\\n\\n\\uf0b7 Monitor market trends and competitor activity to inform strategic planning and\\n\\nmaintain a competitive edge.\\u00a0\\n\\n\\uf0b7 Oversee the preparation of sales forecasts, budgets, and manage the variable sales\\n\\nincentive plans based on performance.\\u00a0\\n\\nCollaborate with marketing, product development, and customer service teams to\\n\\nensure a cohesive approach to business growth.\\u00a0\\n\\n\\uf0b7 Ensure compliance with company policies, industry standards, and legal regulations\\n\\nin all sales activities.\\u00a0\\n\\n\\uf0b7 Provide regular reports to senior management on sales performance, market\\n\\ninsights, and business development activities.\\n\\n\\n\\n\\nRequirement & Skill:\\n\\n\\n\\n\\n\\uf0b7 Proven experience as a Sales/Business Development Head, preferably within the\\n\\nBangalore region or a similar market.\\u00a0\\n\\n\\uf0b7 Strong leadership skills with the ability to inspire and lead a sales team towards\\n\\nachieving sales targets.\\u00a0\\n\\n\\uf0b7 Excellent understanding of sales and marketing strategies, market dynamics, and\\n\\ncustomer engagement practices.\\u00a0\\n\\n\\uf0b7 Solid experience in budgeting, sales planning, and analysis.\\u00a0\\n\\n\\uf0b7 Exceptional negotiation and relationship-building skills, with a network of potential\\n\\nclients and partners in Bangalore.\\u00a0\\n\\n\\uf0b7 Ability to identify emerging market opportunities and devise effective strategies to\\n\\ncapitalise on them.\\u00a0\\n\\n\\uf0b7 Strong analytical skills to evaluate complex scenarios and make data-driven\\n\\ndecisions.\\n\\n\\uf0b7 Excellent communication and interpersonal skills, with the ability to engage\\n\\neffectively at all levels of an organisation.\\u00a0\\n\\n\\uf0b7 Bachelor&#39;s degree in Business Administration, Marketing, or related field; MBA\\n\\npreferred.\\n\\n\\n\\n\\nThis role is pivotal for driving the growth and success of our sales operations in the\\n\\nBangalore zone. The Zonal Sales/Business Development Head will be instrumental in\\n\\nshaping our sales strategy, cultivating key relationships, and leading the team to achieve\\n\\nexceptional results.\\n\\n\\n\\n\\nOther Benefits:\\n\\nRemote/on-site\\n\\nwork shift: Tuesday to Saturday\\n\\nShow more \"\n        ],\n        \"semantic_type\": \"\",\n        \"description\": \"\"\n      }\n    },\n    {\n      \"column\": \"location\",\n      \"properties\": {\n        \"dtype\": \"category\",\n        \"num_unique_values\": 1,\n        \"samples\": [\n          \"India\"\n        ],\n        \"semantic_type\": \"\",\n        \"description\": \"\"\n      }\n    },\n    {\n      \"column\": \"place\",\n      \"properties\": {\n        \"dtype\": \"category\",\n        \"num_unique_values\": 318,\n        \"samples\": [\n          \"Karnataka, India\"\n        ],\n        \"semantic_type\": \"\",\n        \"description\": \"\"\n      }\n    },\n    {\n      \"column\": \"remote\",\n      \"properties\": {\n        \"dtype\": \"category\",\n        \"num_unique_values\": 3,\n        \"samples\": [\n          \"on site\"\n        ],\n        \"semantic_type\": \"\",\n        \"description\": \"\"\n      }\n    },\n    {\n      \"column\": \"type\",\n      \"properties\": {\n        \"dtype\": \"category\",\n        \"num_unique_values\": 7,\n        \"samples\": [\n          \"full time\"\n        ],\n        \"semantic_type\": \"\",\n        \"description\": \"\"\n      }\n    },\n    {\n      \"column\": \"createdAt\",\n      \"properties\": {\n        \"dtype\": \"object\",\n        \"num_unique_values\": 8396,\n        \"samples\": [\n          \"2024-03-05T15:12:16.980Z\"\n        ],\n        \"semantic_type\": \"\",\n        \"description\": \"\"\n      }\n    },\n    {\n      \"column\": \"date\",\n      \"properties\": {\n        \"dtype\": \"date\",\n        \"min\": \"2024-03-04 00:00:00\",\n        \"max\": \"2024-03-14 00:00:00\",\n        \"num_unique_values\": 11,\n        \"samples\": [\n          \"2024-03-09 00:00:00\"\n        ],\n        \"semantic_type\": \"\",\n        \"description\": \"\"\n      }\n    },\n    {\n      \"column\": \"insights\",\n      \"properties\": {\n        \"dtype\": \"category\",\n        \"num_unique_values\": 1,\n        \"samples\": [\n          \"[]\"\n        ],\n        \"semantic_type\": \"\",\n        \"description\": \"\"\n      }\n    },\n    {\n      \"column\": \"jobId\",\n      \"properties\": {\n        \"dtype\": \"number\",\n        \"std\": 86344429,\n        \"min\": 133286834,\n        \"max\": 3856592267,\n        \"num_unique_values\": 8396,\n        \"samples\": [\n          3846553804\n        ],\n        \"semantic_type\": \"\",\n        \"description\": \"\"\n      }\n    },\n    {\n      \"column\": \"link\",\n      \"properties\": {\n        \"dtype\": \"string\",\n        \"num_unique_values\": 8396,\n        \"samples\": [\n          \"https://in.linkedin.com/jobs/view/content-creator-at-fruxinfo-private-limited-3846553804?refId=3u3iwa%2FA%2Fjival7qK0wfMg%3D%3D&trackingId=V1VHV%2BY1NBesmbmuNJVLFQ%3D%3D&position=2&pageNum=0&trk=public_jobs_jserp-result_search-card\"\n        ],\n        \"semantic_type\": \"\",\n        \"description\": \"\"\n      }\n    }\n  ]\n}"
            }
          },
          "metadata": {},
          "execution_count": 4
        }
      ]
    },
    {
      "cell_type": "code",
      "source": [
        "df.info()"
      ],
      "metadata": {
        "colab": {
          "base_uri": "https://localhost:8080/"
        },
        "id": "xh-apRn6HAI2",
        "outputId": "8b91feac-aca6-4d1b-98f2-f0d0290aaedb"
      },
      "execution_count": 5,
      "outputs": [
        {
          "output_type": "stream",
          "name": "stdout",
          "text": [
            "<class 'pandas.core.frame.DataFrame'>\n",
            "RangeIndex: 8396 entries, 0 to 8395\n",
            "Data columns (total 13 columns):\n",
            " #   Column       Non-Null Count  Dtype         \n",
            "---  ------       --------------  -----         \n",
            " 0   query        8396 non-null   object        \n",
            " 1   company      8396 non-null   object        \n",
            " 2   title        8396 non-null   object        \n",
            " 3   description  8396 non-null   object        \n",
            " 4   location     8396 non-null   object        \n",
            " 5   place        8396 non-null   object        \n",
            " 6   remote       8396 non-null   object        \n",
            " 7   type         8396 non-null   object        \n",
            " 8   createdAt    8396 non-null   object        \n",
            " 9   date         8396 non-null   datetime64[ns]\n",
            " 10  insights     8396 non-null   object        \n",
            " 11  jobId        8396 non-null   int64         \n",
            " 12  link         8396 non-null   object        \n",
            "dtypes: datetime64[ns](1), int64(1), object(11)\n",
            "memory usage: 852.8+ KB\n"
          ]
        }
      ]
    },
    {
      "cell_type": "code",
      "source": [
        "df['title'].value_counts()"
      ],
      "metadata": {
        "colab": {
          "base_uri": "https://localhost:8080/"
        },
        "id": "GXerRzYE7Ved",
        "outputId": "7b922d8c-78f9-4103-fbbc-4e5e31ca413e"
      },
      "execution_count": 6,
      "outputs": [
        {
          "output_type": "execute_result",
          "data": {
            "text/plain": [
              "Business Development Manager            359\n",
              "Business Development Executive          332\n",
              "Sales Executive                         178\n",
              "Digital Marketing Intern                 96\n",
              "Product Manager                          95\n",
              "                                       ... \n",
              "Search Engine Optimization Fresher        1\n",
              "Business Strategy Internship              1\n",
              "Assistant Vice President Branding         1\n",
              "Business Development Intern (Sales)       1\n",
              "Sales & Marketing Intern / no Salary      1\n",
              "Name: title, Length: 3956, dtype: int64"
            ]
          },
          "metadata": {},
          "execution_count": 6
        }
      ]
    },
    {
      "cell_type": "code",
      "source": [
        "df = df.dropna()\n"
      ],
      "metadata": {
        "id": "6h7v7wCiHojX"
      },
      "execution_count": 7,
      "outputs": []
    },
    {
      "cell_type": "code",
      "source": [
        "df.shape"
      ],
      "metadata": {
        "colab": {
          "base_uri": "https://localhost:8080/"
        },
        "id": "VKAE22jZHy60",
        "outputId": "1b224f79-3810-4d94-c954-ee9c9300b676"
      },
      "execution_count": 8,
      "outputs": [
        {
          "output_type": "execute_result",
          "data": {
            "text/plain": [
              "(8396, 13)"
            ]
          },
          "metadata": {},
          "execution_count": 8
        }
      ]
    },
    {
      "cell_type": "code",
      "source": [
        "df['description'].head()"
      ],
      "metadata": {
        "colab": {
          "base_uri": "https://localhost:8080/"
        },
        "id": "_a26u05ZH00a",
        "outputId": "880df2af-c3f7-4221-c466-809a122c8b29"
      },
      "execution_count": 9,
      "outputs": [
        {
          "output_type": "execute_result",
          "data": {
            "text/plain": [
              "0    This job is provided by apna.co Agency Channel...\n",
              "1    Key Requirement for the Position\\n\\nJob Descri...\n",
              "2    Combines marketing and social media management...\n",
              "3    Portfolio & Deliverables :\\n\\n• Support client...\n",
              "4    Summary of Role: The Business Development Lead...\n",
              "Name: description, dtype: object"
            ]
          },
          "metadata": {},
          "execution_count": 9
        }
      ]
    },
    {
      "cell_type": "markdown",
      "source": [
        "Feature Extraction"
      ],
      "metadata": {
        "id": "8RrKj8R6MBiZ"
      }
    },
    {
      "cell_type": "code",
      "source": [
        "tdif =  TfidfVectorizer(stop_words = 'english')\n",
        "df['description'] = df['description'].fillna('')\n",
        "tdif_matrix = tdif.fit_transform(df['description'])\n",
        "tdif_matrix.shape"
      ],
      "metadata": {
        "colab": {
          "base_uri": "https://localhost:8080/"
        },
        "id": "uWAdRbZOIWnN",
        "outputId": "bbaf5cc2-ff89-4073-9c77-6795bb0796d6"
      },
      "execution_count": 10,
      "outputs": [
        {
          "output_type": "execute_result",
          "data": {
            "text/plain": [
              "(8396, 28288)"
            ]
          },
          "metadata": {},
          "execution_count": 10
        }
      ]
    },
    {
      "cell_type": "markdown",
      "source": [
        "Similarity Calculation"
      ],
      "metadata": {
        "id": "lszHHfv6MJdg"
      }
    },
    {
      "cell_type": "code",
      "source": [
        "cosine_sim = linear_kernel(tdif_matrix, tdif_matrix).flatten()\n",
        "indices = pd.Series(df.index, index =df['query']).drop_duplicates()"
      ],
      "metadata": {
        "id": "JCBCuBLwJefO"
      },
      "execution_count": 11,
      "outputs": []
    },
    {
      "cell_type": "markdown",
      "source": [
        "Getting Recommendation (Top 50 Suitable)"
      ],
      "metadata": {
        "id": "kCXt_yj2LNiJ"
      }
    },
    {
      "cell_type": "code",
      "source": [
        "def get_recommendation(jtitle, cosine_sim = cosine_sim):\n",
        "  idx = indices[jtitle]\n",
        "  sim_scores = list(enumerate(cosine_sim[idx]))\n",
        "  sim_scores = sorted(sim_scores,key=lambda X: X[1], reverse=True)\n",
        "  sim_scores = sim_scores[1:50]\n",
        "  tech_indices = [i[0] for i in sim_scores]\n",
        "  return df['title'].iloc[tech_indices]\n"
      ],
      "metadata": {
        "id": "lJM6RSx6K3ND"
      },
      "execution_count": 12,
      "outputs": []
    },
    {
      "cell_type": "code",
      "source": [
        "get_recommendation('Product Marketing')"
      ],
      "metadata": {
        "colab": {
          "base_uri": "https://localhost:8080/"
        },
        "id": "tmTbz9e9McNQ",
        "outputId": "f6250f7f-ebf2-45a0-85fa-7a93e6a05d19"
      },
      "execution_count": 16,
      "outputs": [
        {
          "output_type": "execute_result",
          "data": {
            "text/plain": [
              "1177                   Business Development Manager (BDM)\n",
              "541                                       Sales Team Lead\n",
              "681              Online Assessor – India (Hindi Language)\n",
              "158     Business Development Executive For Staffing Ag...\n",
              "161                              Sales Executive - Mumbai\n",
              "162                   Sales Executive <India to Bahrain >\n",
              "707                             Lead Generation Executive\n",
              "1053               Video Content Creator/Presenter Intern\n",
              "1407                               Data Engineer (Remote)\n",
              "1241                          Influencer Marketing Intern\n",
              "34                       Director - Performance Marketing\n",
              "1183                       Business Development Executive\n",
              "765                          Digital B2B Marketing Intern\n",
              "1140                          Director of Sales Marketing\n",
              "484                  Assistant Manager - Sports Marketing\n",
              "30                   (DTC) and TikTok Video Editor expert\n",
              "1628                                Field Sales Executive\n",
              "762                                Social Media Marketing\n",
              "1416                          Business Development Intern\n",
              "359                                      Marketing Intern\n",
              "1054    Urgent Opening for Business development AID fo...\n",
              "1319                         Senior GCP Engineer-Cloudrun\n",
              "1191                                 Area Sales Executive\n",
              "209     Marketing Director, Stealth Educational Startu...\n",
              "164                                     Account Executive\n",
              "695     Analyst, Digital Learning (System) - (6 Months...\n",
              "1302                        Services Product Line Manager\n",
              "1122                                    Market Researcher\n",
              "156                     Growth Business Developer | India\n",
              "345                                       Content Writing\n",
              "307                       Influencer Marketing Specialist\n",
              "485       SBS -Assistant Brand Manager, India Consumables\n",
              "500                            Product & Business Analyst\n",
              "383                             Campus Ambassador Interns\n",
              "1294                              Digital Product Manager\n",
              "430                          Business Development Manager\n",
              "1013                            Lead Generation Executive\n",
              "64                         Business Development Executive\n",
              "77                     Search Engine Optimization Analyst\n",
              "1481                                 Product Manager Role\n",
              "1287                                     Head of Products\n",
              "1373                      Digital Business Design Analyst\n",
              "779                                Social Media Marketing\n",
              "252                                Inside Sales Executive\n",
              "1205                                Field sales executive\n",
              "1206                                  Manager - Marketing\n",
              "1304                                      Product Manager\n",
              "955                          Marketing EME Communications\n",
              "197     Vice President Marketing, Stealth Educational ...\n",
              "Name: title, dtype: object"
            ]
          },
          "metadata": {},
          "execution_count": 16
        }
      ]
    },
    {
      "cell_type": "code",
      "source": [],
      "metadata": {
        "id": "XGigegrhMnj1"
      },
      "execution_count": 13,
      "outputs": []
    }
  ]
}